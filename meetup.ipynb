{
 "cells": [
  {
   "cell_type": "code",
   "execution_count": null,
   "metadata": {},
   "outputs": [],
   "source": [
    "xmode plain"
   ]
  },
  {
   "cell_type": "markdown",
   "metadata": {
    "slideshow": {
     "slide_type": "slide"
    }
   },
   "source": [
    "<h1 style=\"text-align: center;\">What? Can you do that in Python?</h1>\n",
    "<br />\n",
    "<h3 style=\"text-align: center;\">15 things every Python programmer should know</h3>\n",
    "<h4 style=\"text-align: center;\">(well, should is a strong word, but let's have some fun)</h4>\n",
    "<br />\n",
    "<h4 style=\"text-align: center;\">Joakim Wassberg - Arthead AB</h4>"
   ]
  },
  {
   "cell_type": "markdown",
   "metadata": {
    "slideshow": {
     "slide_type": "slide"
    }
   },
   "source": [
    "<h2 style=\"text-align: center;\"><u>Goals for the evening:</u></h2>"
   ]
  },
  {
   "cell_type": "markdown",
   "metadata": {
    "slideshow": {
     "slide_type": "fragment"
    }
   },
   "source": [
    "<h3 style=\"text-align: center;\">Gain a better understanding of Python</h3>"
   ]
  },
  {
   "cell_type": "markdown",
   "metadata": {
    "slideshow": {
     "slide_type": "fragment"
    }
   },
   "source": [
    "<h3 style=\"text-align: center;\">Explore some of the powers of the language</h3>"
   ]
  },
  {
   "cell_type": "markdown",
   "metadata": {
    "slideshow": {
     "slide_type": "fragment"
    }
   },
   "source": [
    "<h3 style=\"text-align: center;\">Everybody shall learn something new</h3>"
   ]
  },
  {
   "cell_type": "markdown",
   "metadata": {
    "slideshow": {
     "slide_type": "slide"
    }
   },
   "source": [
    "<h1 style=\"text-align: center;\">1. What makes Python unique?</h1>"
   ]
  },
  {
   "cell_type": "markdown",
   "metadata": {
    "slideshow": {
     "slide_type": "subslide"
    }
   },
   "source": [
    "<h2 style=\"text-align: center;\">1a. PEP-8</h2>"
   ]
  },
  {
   "cell_type": "markdown",
   "metadata": {
    "slideshow": {
     "slide_type": "subslide"
    }
   },
   "source": [
    "## PEP 8 is the Style Guide for Python Code\n",
    "### What is so special with it?"
   ]
  },
  {
   "cell_type": "markdown",
   "metadata": {
    "slideshow": {
     "slide_type": "fragment"
    }
   },
   "source": [
    "* Gives a consistent style platform for all Python code"
   ]
  },
  {
   "cell_type": "markdown",
   "metadata": {
    "slideshow": {
     "slide_type": "fragment"
    }
   },
   "source": [
    "* Whitespace\n"
   ]
  },
  {
   "cell_type": "markdown",
   "metadata": {
    "slideshow": {
     "slide_type": "fragment"
    }
   },
   "source": [
    "* Help enforcing consistency of code. No need for local coding standard"
   ]
  },
  {
   "cell_type": "markdown",
   "metadata": {
    "slideshow": {
     "slide_type": "fragment"
    }
   },
   "source": [
    "* Makes the code clean and easy to read"
   ]
  },
  {
   "cell_type": "markdown",
   "metadata": {
    "slideshow": {
     "slide_type": "fragment"
    }
   },
   "source": [
    "* Get familiar with and try to follow PEP-8"
   ]
  },
  {
   "cell_type": "markdown",
   "metadata": {
    "slideshow": {
     "slide_type": "fragment"
    }
   },
   "source": [
    "* Best place to read PEP-8 is at http://pep8.org/. Here Kenneth Reitz as made a nicer formated version of it. "
   ]
  },
  {
   "cell_type": "markdown",
   "metadata": {
    "slideshow": {
     "slide_type": "subslide"
    }
   },
   "source": [
    "<h2 style=\"text-align: center;\">1b. The nature of the Python ecosystem</h2>"
   ]
  },
  {
   "cell_type": "markdown",
   "metadata": {
    "slideshow": {
     "slide_type": "fragment"
    }
   },
   "source": [
    "* It is open source"
   ]
  },
  {
   "cell_type": "markdown",
   "metadata": {
    "slideshow": {
     "slide_type": "fragment"
    }
   },
   "source": [
    "* It is not controlled by a single company (like Java) or a slow-moving standards committee (like C++)"
   ]
  },
  {
   "cell_type": "markdown",
   "metadata": {
    "slideshow": {
     "slide_type": "fragment"
    }
   },
   "source": [
    "* It has a nice system for suggesting language improvements, Python Enhancement Proposals (PEPs) "
   ]
  },
  {
   "cell_type": "markdown",
   "metadata": {
    "slideshow": {
     "slide_type": "fragment"
    }
   },
   "source": [
    "* It has tried to capture the Pythonic way of doing things in the Zen of Python"
   ]
  },
  {
   "cell_type": "markdown",
   "metadata": {
    "slideshow": {
     "slide_type": "subslide"
    }
   },
   "source": [
    "Insert this line of code in a module and run it and you get the Zen of Python (PEP-20)"
   ]
  },
  {
   "cell_type": "code",
   "execution_count": null,
   "metadata": {
    "slideshow": {
     "slide_type": "fragment"
    }
   },
   "outputs": [],
   "source": [
    "import this"
   ]
  },
  {
   "cell_type": "markdown",
   "metadata": {
    "slideshow": {
     "slide_type": "slide"
    }
   },
   "source": [
    "<h1 style=\"text-align: center;\">2. Some small things</h1>"
   ]
  },
  {
   "cell_type": "markdown",
   "metadata": {
    "slideshow": {
     "slide_type": "subslide"
    }
   },
   "source": [
    "<h2 style=\"text-align: center;\">2a. f-strings (new in 3.6)</h2>"
   ]
  },
  {
   "cell_type": "code",
   "execution_count": null,
   "metadata": {
    "slideshow": {
     "slide_type": "fragment"
    }
   },
   "outputs": [],
   "source": [
    "name = \"Sue\"\n",
    "age = 43\n",
    "\n",
    "# Using string format function   \n",
    "print(\"Hi {0}, you are {1} years old\".format(name, age))\n"
   ]
  },
  {
   "cell_type": "code",
   "execution_count": null,
   "metadata": {
    "slideshow": {
     "slide_type": "fragment"
    }
   },
   "outputs": [],
   "source": [
    "# Using f-strings\n",
    "print(f\"Hi {name}, you are {age} years old\")\n",
    "   "
   ]
  },
  {
   "cell_type": "markdown",
   "metadata": {
    "slideshow": {
     "slide_type": "subslide"
    }
   },
   "source": [
    "<h2 style=\"text-align: center;\">2b. Print unpacking</h2>"
   ]
  },
  {
   "cell_type": "code",
   "execution_count": null,
   "metadata": {
    "slideshow": {
     "slide_type": "fragment"
    }
   },
   "outputs": [],
   "source": [
    "items = ['Alpha', 'Bravo', 'Charlie', 'Delta', 'Echo', 'Foxtrot' ]\n",
    "\n",
    "# If we want to print the list comma separated    \n",
    "print(', '.join(str(item) for item in items))\n"
   ]
  },
  {
   "cell_type": "code",
   "execution_count": null,
   "metadata": {
    "slideshow": {
     "slide_type": "fragment"
    }
   },
   "outputs": [],
   "source": [
    "# Or we can le t print take care of the unpacking and insertion of commas\n",
    "print(*items, sep=', ')\n",
    "   "
   ]
  },
  {
   "cell_type": "markdown",
   "metadata": {
    "slideshow": {
     "slide_type": "subslide"
    }
   },
   "source": [
    "<h2 style=\"text-align: center;\">2c. Prefer generator comprehensions</h2>"
   ]
  },
  {
   "cell_type": "markdown",
   "metadata": {
    "slideshow": {
     "slide_type": "subslide"
    }
   },
   "source": [
    "In almost all cases where we use comprehensions we should prefer using generator comprehensions"
   ]
  },
  {
   "cell_type": "markdown",
   "metadata": {
    "slideshow": {
     "slide_type": "fragment"
    }
   },
   "source": [
    "In the previous topic we unpacked a list inside print. If we for some reason choose to use a comprehension here like this"
   ]
  },
  {
   "cell_type": "code",
   "execution_count": null,
   "metadata": {
    "slideshow": {
     "slide_type": "fragment"
    }
   },
   "outputs": [],
   "source": [
    "print(*[x*2 for x in range(10)], sep=', ')"
   ]
  },
  {
   "cell_type": "markdown",
   "metadata": {
    "slideshow": {
     "slide_type": "fragment"
    }
   },
   "source": [
    "Then a generator comprehension would have been a better choice because there is no need for the generated list"
   ]
  },
  {
   "cell_type": "code",
   "execution_count": null,
   "metadata": {
    "slideshow": {
     "slide_type": "fragment"
    }
   },
   "outputs": [],
   "source": [
    "print(*(x*2 for x in range(10)), sep=', ')"
   ]
  },
  {
   "cell_type": "markdown",
   "metadata": {
    "slideshow": {
     "slide_type": "subslide"
    }
   },
   "source": [
    "<h2 style=\"text-align: center;\">2d. Negative stride reversing</h2>"
   ]
  },
  {
   "cell_type": "code",
   "execution_count": null,
   "metadata": {
    "slideshow": {
     "slide_type": "fragment"
    }
   },
   "outputs": [],
   "source": [
    "s1 = 'This is a string'\n",
    "print(s1[::-1])\n"
   ]
  },
  {
   "cell_type": "code",
   "execution_count": null,
   "metadata": {
    "slideshow": {
     "slide_type": "fragment"
    }
   },
   "outputs": [],
   "source": [
    "l1 = [1, 2, 3, 4, 5]\n",
    "print(l1[::-1])\n"
   ]
  },
  {
   "cell_type": "markdown",
   "metadata": {
    "slideshow": {
     "slide_type": "subslide"
    }
   },
   "source": [
    "We can of course use the other parts of the slice to reverse just parts of the sequence"
   ]
  },
  {
   "cell_type": "code",
   "execution_count": null,
   "metadata": {
    "slideshow": {
     "slide_type": "fragment"
    }
   },
   "outputs": [],
   "source": [
    "s1 = 'This is a string'\n",
    "print(s1[6::-1])\n",
    "print(s1[6:1:-1])"
   ]
  },
  {
   "cell_type": "markdown",
   "metadata": {
    "slideshow": {
     "slide_type": "subslide"
    }
   },
   "source": [
    "<h2 style=\"text-align: center;\">Warning!</h2>"
   ]
  },
  {
   "cell_type": "markdown",
   "metadata": {
    "slideshow": {
     "slide_type": "fragment"
    }
   },
   "source": [
    "Negative strides might break if used with Unicode characters encoded as UTF-8 byte strings"
   ]
  },
  {
   "cell_type": "code",
   "execution_count": null,
   "metadata": {
    "slideshow": {
     "slide_type": "fragment"
    }
   },
   "outputs": [],
   "source": [
    "s1 = '我很开心'\n",
    "encoded_s1 = s1.encode('utf-8')\n",
    "reversed_s1 = encoded_s1[::-1]\n",
    "print(reversed_s1.decode('utf-8'))"
   ]
  },
  {
   "cell_type": "markdown",
   "metadata": {
    "slideshow": {
     "slide_type": "slide"
    }
   },
   "source": [
    "<h1 style=\"text-align: center;\">2e. Else in for-loops</h1>"
   ]
  },
  {
   "cell_type": "markdown",
   "metadata": {
    "slideshow": {
     "slide_type": "subslide"
    }
   },
   "source": [
    "This is a feature that not every Python programmer knows about, and even if they do it is not always clear when or for what it should be used for. \n",
    "\n",
    "The for-loop has an optional else clause"
   ]
  },
  {
   "cell_type": "code",
   "execution_count": null,
   "metadata": {
    "slideshow": {
     "slide_type": "fragment"
    }
   },
   "outputs": [],
   "source": [
    "for i in range(10):\n",
    "    if i == 3:\n",
    "        break\n",
    "    print(i)\n",
    "else:\n",
    "    print('Done')\n",
    "    "
   ]
  },
  {
   "cell_type": "markdown",
   "metadata": {
    "slideshow": {
     "slide_type": "subslide"
    }
   },
   "source": [
    "In this case the else clause did not execute. But if we change the code a bit it will"
   ]
  },
  {
   "cell_type": "code",
   "execution_count": null,
   "metadata": {
    "slideshow": {
     "slide_type": "fragment"
    }
   },
   "outputs": [],
   "source": [
    "for i in range(10):\n",
    "    if i == 30:\n",
    "        break\n",
    "    print(i)\n",
    "else:\n",
    "    print('Done')\n",
    "    "
   ]
  },
  {
   "cell_type": "markdown",
   "metadata": {
    "slideshow": {
     "slide_type": "fragment"
    }
   },
   "source": [
    "The difference between the two is that in the second example the for-loop exited without hitting any break. A better name for this else would have been *nobreak*."
   ]
  },
  {
   "cell_type": "markdown",
   "metadata": {
    "slideshow": {
     "slide_type": "subslide"
    }
   },
   "source": [
    "This construct can be useful in situations when we usually use a flag variable inside the loop to indicate if a condition occurred.\n",
    "\n",
    "Here we use this kind of flag variable to indicate that we found a three in the sequence"
   ]
  },
  {
   "cell_type": "code",
   "execution_count": null,
   "metadata": {
    "slideshow": {
     "slide_type": "fragment"
    }
   },
   "outputs": [],
   "source": [
    "found = False\n",
    "for i in range(10):\n",
    "    if i == 3:\n",
    "        found = True\n",
    "\n",
    "if found:\n",
    "    print('Found 3')\n",
    "else:\n",
    "    print('Did not find 3')\n",
    "    "
   ]
  },
  {
   "cell_type": "markdown",
   "metadata": {
    "slideshow": {
     "slide_type": "subslide"
    }
   },
   "source": [
    "By using the else on the for we can get rid of the flag variable"
   ]
  },
  {
   "cell_type": "code",
   "execution_count": null,
   "metadata": {
    "slideshow": {
     "slide_type": "fragment"
    }
   },
   "outputs": [],
   "source": [
    "for i in range(10):\n",
    "    if i == 30:\n",
    "        print('Found 30')\n",
    "        break\n",
    "else: \n",
    "    print('Did not find 30')\n",
    "    "
   ]
  },
  {
   "cell_type": "markdown",
   "metadata": {
    "slideshow": {
     "slide_type": "slide"
    }
   },
   "source": [
    "<h1 style=\"text-align: center;\">3. Chaining of comparison operators</h1>"
   ]
  },
  {
   "cell_type": "markdown",
   "metadata": {
    "slideshow": {
     "slide_type": "subslide"
    }
   },
   "source": [
    "When comparing values in an interval we often face code like the one below"
   ]
  },
  {
   "cell_type": "code",
   "execution_count": null,
   "metadata": {
    "slideshow": {
     "slide_type": "fragment"
    }
   },
   "outputs": [],
   "source": [
    "n = 10\n",
    "\n",
    "result = n > 1 and n < 20\n",
    "print(result)\n"
   ]
  },
  {
   "cell_type": "markdown",
   "metadata": {
    "slideshow": {
     "slide_type": "subslide"
    }
   },
   "source": [
    "A more Pythonic way is to use the chain comparison operator"
   ]
  },
  {
   "cell_type": "code",
   "execution_count": null,
   "metadata": {
    "slideshow": {
     "slide_type": "fragment"
    }
   },
   "outputs": [],
   "source": [
    "n = 10\n",
    "\n",
    "result = 1 < n < 20\n",
    "print(result)\n",
    "\n",
    "result = 1 < n <= 9\n",
    "print(result)\n"
   ]
  },
  {
   "cell_type": "markdown",
   "metadata": {
    "slideshow": {
     "slide_type": "slide"
    }
   },
   "source": [
    "<h1 style=\"text-align: center;\">4. Trinary conditional assignment</h1>"
   ]
  },
  {
   "cell_type": "markdown",
   "metadata": {
    "slideshow": {
     "slide_type": "subslide"
    }
   },
   "source": [
    "Let’s say we want to assign different values to a variable depending on the value of another variable. We could write this code:"
   ]
  },
  {
   "cell_type": "code",
   "execution_count": null,
   "metadata": {
    "slideshow": {
     "slide_type": "fragment"
    }
   },
   "outputs": [],
   "source": [
    "y = 5\n",
    "\n",
    "if y < 6:\n",
    "    x = 1\n",
    "else:\n",
    "    x = 2\n",
    "\n",
    "print(x)\n"
   ]
  },
  {
   "cell_type": "markdown",
   "metadata": {
    "slideshow": {
     "slide_type": "subslide"
    }
   },
   "source": [
    "A better way is to use trinary conditional assignment"
   ]
  },
  {
   "cell_type": "code",
   "execution_count": null,
   "metadata": {
    "slideshow": {
     "slide_type": "fragment"
    }
   },
   "outputs": [],
   "source": [
    "y = 5\n",
    "x = 1 if y < 6 else 2\n",
    "\n",
    "print(x)\n"
   ]
  },
  {
   "cell_type": "markdown",
   "metadata": {
    "slideshow": {
     "slide_type": "subslide"
    }
   },
   "source": [
    "We can chain these to accomplish more advanced tasks"
   ]
  },
  {
   "cell_type": "code",
   "execution_count": null,
   "metadata": {
    "slideshow": {
     "slide_type": "fragment"
    }
   },
   "outputs": [],
   "source": [
    "a, b, c = 11, 4, 13\n",
    "\n",
    "smallest = a if a <= b and a <= c else b if b <= a and b <= c else c\n",
    "\n",
    "print(smallest)\n"
   ]
  },
  {
   "cell_type": "markdown",
   "metadata": {
    "slideshow": {
     "slide_type": "fragment"
    }
   },
   "source": [
    "If we want it more compact we can use the chaining comparison operators from the previous topic"
   ]
  },
  {
   "cell_type": "code",
   "execution_count": null,
   "metadata": {
    "slideshow": {
     "slide_type": "fragment"
    }
   },
   "outputs": [],
   "source": [
    "smallest = a if b >= a <= c else b if a >= b <= c else c\n",
    "\n",
    "print(smallest)\n"
   ]
  },
  {
   "cell_type": "markdown",
   "metadata": {
    "slideshow": {
     "slide_type": "subslide"
    }
   },
   "source": [
    "We often use this technique in comprehensions"
   ]
  },
  {
   "cell_type": "code",
   "execution_count": null,
   "metadata": {
    "slideshow": {
     "slide_type": "fragment"
    }
   },
   "outputs": [],
   "source": [
    "result = ['even' if value % 2 == 0 else 'odd' for value in [3,6,4,5,2,3,1,7]]\n",
    "print(result)\n"
   ]
  },
  {
   "cell_type": "markdown",
   "metadata": {
    "slideshow": {
     "slide_type": "slide"
    }
   },
   "source": [
    " <h1 style=\"text-align: center;\">5. Keyword only arguments</h1>"
   ]
  },
  {
   "cell_type": "markdown",
   "metadata": {
    "slideshow": {
     "slide_type": "subslide"
    }
   },
   "source": [
    "Imagine that we have this function"
   ]
  },
  {
   "cell_type": "code",
   "execution_count": null,
   "metadata": {
    "collapsed": true,
    "slideshow": {
     "slide_type": "fragment"
    }
   },
   "outputs": [],
   "source": [
    "def first(a, b, name=None):\n",
    "    pass"
   ]
  },
  {
   "cell_type": "markdown",
   "metadata": {
    "slideshow": {
     "slide_type": "fragment"
    }
   },
   "source": [
    "This function can be changed into this"
   ]
  },
  {
   "cell_type": "code",
   "execution_count": null,
   "metadata": {
    "collapsed": true,
    "slideshow": {
     "slide_type": "fragment"
    }
   },
   "outputs": [],
   "source": [
    "def second(*args, name=None):\n",
    "    pass"
   ]
  },
  {
   "cell_type": "markdown",
   "metadata": {
    "slideshow": {
     "slide_type": "subslide"
    }
   },
   "source": [
    "The problem with the last one is that I now can call it with any number of positional arguments"
   ]
  },
  {
   "cell_type": "code",
   "execution_count": null,
   "metadata": {
    "slideshow": {
     "slide_type": "fragment"
    }
   },
   "outputs": [],
   "source": [
    "def second(*args, name=None):\n",
    "    print(args, name)\n",
    "\n",
    "second(1)\n",
    "second(1, 2)\n",
    "second(1, 2, 3)\n",
    "second(1, 2, 3, 4)\n",
    "second(1, 2, 3, 4, name='Sue')"
   ]
  },
  {
   "cell_type": "markdown",
   "metadata": {
    "slideshow": {
     "slide_type": "subslide"
    }
   },
   "source": [
    "Lets say that you want two positional arguments and one keyword argument that only can be initialized by keyword. You can accomplish this by inserting a vararg that you ignore\n"
   ]
  },
  {
   "cell_type": "code",
   "execution_count": null,
   "metadata": {
    "slideshow": {
     "slide_type": "fragment"
    }
   },
   "outputs": [],
   "source": [
    "def third(a, b, *ignore, name=None):\n",
    "    print(a, b, ignore, name)\n",
    "    \n",
    "third(1, 2)\n",
    "third(1, 2, 3)\n",
    "third(1, 2, 3, 4, name='Sue')"
   ]
  },
  {
   "cell_type": "markdown",
   "metadata": {
    "slideshow": {
     "slide_type": "subslide"
    }
   },
   "source": [
    "With this layout we can no make it impossible to send more than two positional arguments"
   ]
  },
  {
   "cell_type": "code",
   "execution_count": null,
   "metadata": {
    "scrolled": true,
    "slideshow": {
     "slide_type": "fragment"
    }
   },
   "outputs": [],
   "source": [
    "def forth(a, b, *ignore, name=None):\n",
    "    if ignore: # ignore is not empty\n",
    "        raise TypeError('Function only accepts two positional arguments')\n",
    "    print(a, b, ignore, name)\n",
    "     \n",
    "forth(1, 2)\n",
    "forth(1, 2, name='Sue')\n",
    "forth(1, 2, 3, name='Sue')"
   ]
  },
  {
   "cell_type": "markdown",
   "metadata": {
    "slideshow": {
     "slide_type": "subslide"
    }
   },
   "source": [
    "There is an easier way to do this. Instead of using the ignore vararg we can just use a single star"
   ]
  },
  {
   "cell_type": "code",
   "execution_count": null,
   "metadata": {
    "slideshow": {
     "slide_type": "subslide"
    }
   },
   "outputs": [],
   "source": [
    "def fifth(a, b, *, name=None):\n",
    "    pass\n",
    "\n",
    "fifth(1, 2)\n",
    "fifth(1, 2, name='Sue')\n",
    "fifth(1, 2, 3, name='Sue')"
   ]
  },
  {
   "cell_type": "markdown",
   "metadata": {
    "slideshow": {
     "slide_type": "slide"
    }
   },
   "source": [
    "<h1 style=\"text-align: center;\">6. Storing functions in a dictionary</h1>"
   ]
  },
  {
   "cell_type": "markdown",
   "metadata": {
    "slideshow": {
     "slide_type": "subslide"
    }
   },
   "source": [
    "At times, it can be useful to store a number of functions that perform related tasks together. We can do this by storing them in a dictionary"
   ]
  },
  {
   "cell_type": "code",
   "execution_count": null,
   "metadata": {
    "slideshow": {
     "slide_type": "fragment"
    }
   },
   "outputs": [],
   "source": [
    "def s(x, y): return x + y\n",
    "\n",
    "def d(x, y): return x - y\n",
    "\n",
    "def p(x, y): return x * y\n",
    "\n",
    "def q(x, y): return x / y\n",
    "\n",
    "calc = {\n",
    "    'sum': s,\n",
    "    'diff': d,\n",
    "    'product': p,\n",
    "    'quotient':  q\n",
    "}\n",
    "\n",
    "print(calc['sum'](2,3))\n",
    "print(calc['diff'](2,3))\n",
    "print(calc['product'](2,3))\n",
    "print(calc['quotient'](2,3))"
   ]
  },
  {
   "cell_type": "markdown",
   "metadata": {
    "slideshow": {
     "slide_type": "subslide"
    }
   },
   "source": [
    "To make the code more compact we can use lambdas instead"
   ]
  },
  {
   "cell_type": "code",
   "execution_count": null,
   "metadata": {
    "slideshow": {
     "slide_type": "fragment"
    }
   },
   "outputs": [],
   "source": [
    "calc = {\n",
    "    'sum': lambda x, y: x + y,\n",
    "    'diff': lambda x, y: x - y,\n",
    "    'product': lambda x, y: x * y,\n",
    "    'quotient':  lambda x, y: x / y\n",
    "}\n",
    "\n",
    "print(calc['sum'](2,3))\n",
    "print(calc['diff'](2,3))\n",
    "print(calc['product'](2,3))\n",
    "print(calc['quotient'](2,3))\n"
   ]
  },
  {
   "cell_type": "markdown",
   "metadata": {
    "slideshow": {
     "slide_type": "subslide"
    }
   },
   "source": [
    "The nice thing is that we now can iterate over the dictionary and call all the functions"
   ]
  },
  {
   "cell_type": "code",
   "execution_count": null,
   "metadata": {
    "slideshow": {
     "slide_type": "fragment"
    }
   },
   "outputs": [],
   "source": [
    "for k,f in calc.items():\n",
    "    print(k,'=',f(2,3))\n",
    "    "
   ]
  },
  {
   "cell_type": "markdown",
   "metadata": {
    "slideshow": {
     "slide_type": "subslide"
    }
   },
   "source": [
    "Or we can push this a bit to far:"
   ]
  },
  {
   "cell_type": "code",
   "execution_count": null,
   "metadata": {
    "slideshow": {
     "slide_type": "fragment"
    }
   },
   "outputs": [],
   "source": [
    "x = [1, 2, 3, 4]\n",
    "y = [10, 20, 30, 40]\n",
    "result = [f'{k} of {a} and {b} = {f(a,b)}' \n",
    "          for k, f in calc.items() for a, b in zip(x,y)]\n",
    "print(result)"
   ]
  },
  {
   "cell_type": "markdown",
   "metadata": {
    "slideshow": {
     "slide_type": "slide"
    }
   },
   "source": [
    "<h1 style=\"text-align: center;\">7. Using collections counter</h1>"
   ]
  },
  {
   "cell_type": "markdown",
   "metadata": {
    "slideshow": {
     "slide_type": "subslide"
    }
   },
   "source": [
    "Imagine that we have a string of text and want to count the letter frequency. This is a perfect job for the collections counter."
   ]
  },
  {
   "cell_type": "code",
   "execution_count": null,
   "metadata": {
    "slideshow": {
     "slide_type": "fragment"
    }
   },
   "outputs": [],
   "source": [
    "from collections import Counter\n",
    "    \n",
    "text = \"When I was a kid I always wanted a cat but all I got was a gold fish\"\n",
    "c = Counter(text)\n",
    "print(c)\n"
   ]
  },
  {
   "cell_type": "markdown",
   "metadata": {
    "slideshow": {
     "slide_type": "fragment"
    }
   },
   "source": [
    "As we can see we get a dictionary where the characters are the key and the values is the frequency of each character."
   ]
  },
  {
   "cell_type": "markdown",
   "metadata": {
    "slideshow": {
     "slide_type": "subslide"
    }
   },
   "source": [
    "We can ask the counter to only give us the most frequent characters"
   ]
  },
  {
   "cell_type": "code",
   "execution_count": null,
   "metadata": {
    "slideshow": {
     "slide_type": "fragment"
    }
   },
   "outputs": [],
   "source": [
    "print(c.most_common(5))\n"
   ]
  },
  {
   "cell_type": "markdown",
   "metadata": {
    "slideshow": {
     "slide_type": "subslide"
    }
   },
   "source": [
    "Now let's put it to the test. This time we will use the full text of the King James Bible and count all words in it using the collections counter"
   ]
  },
  {
   "cell_type": "code",
   "execution_count": null,
   "metadata": {
    "slideshow": {
     "slide_type": "fragment"
    }
   },
   "outputs": [],
   "source": [
    "from collections import Counter\n",
    "import re\n",
    "\n",
    "counter = Counter()\n",
    "for line in open('bible.txt'):\n",
    "    line = line.strip().lower()\n",
    "    if not line: # Empty line, skip it\n",
    "        continue\n",
    "    # Remove unwanted characters (all but a-z ' and space)\n",
    "    line = re.sub(r\"[^a-z ']\",'',line)\n",
    "    # Split the line into words and append it to the counter if we have anything in the word\n",
    "    counter.update(word for word in re.split(' ', line) if word)\n",
    "\n",
    "print('Word'.rjust(16), ' ', 'Count')\n",
    "print('='*37)\n",
    "for word, count in counter.most_common(10):\n",
    "    print(word.rjust(16).title(), '|', count)"
   ]
  },
  {
   "cell_type": "markdown",
   "metadata": {
    "slideshow": {
     "slide_type": "slide"
    }
   },
   "source": [
    "<h1 style=\"text-align: center;\">8. Separating business and admin logic with decorators</h1>"
   ]
  },
  {
   "cell_type": "markdown",
   "metadata": {
    "slideshow": {
     "slide_type": "subslide"
    }
   },
   "source": [
    "## But first a short crash course on decorators"
   ]
  },
  {
   "cell_type": "markdown",
   "metadata": {
    "slideshow": {
     "slide_type": "fragment"
    }
   },
   "source": [
    "A decorator is a technique to give a function new behavior without changing its code in any way"
   ]
  },
  {
   "cell_type": "markdown",
   "metadata": {
    "slideshow": {
     "slide_type": "subslide"
    }
   },
   "source": [
    "Let us make a simple quote decorator. First we need a function to decorate. "
   ]
  },
  {
   "cell_type": "code",
   "execution_count": null,
   "metadata": {
    "slideshow": {
     "slide_type": "fragment"
    }
   },
   "outputs": [],
   "source": [
    "def make_text(name):\n",
    "    return f\"Hi there {name}\"\n",
    "\n",
    "print(make_text('Bob'))"
   ]
  },
  {
   "cell_type": "markdown",
   "metadata": {
    "slideshow": {
     "slide_type": "subslide"
    }
   },
   "source": [
    "Now we want to change the behavior of the function without changing the code inside the function or the call of the function. We do that with a decorator"
   ]
  },
  {
   "cell_type": "code",
   "execution_count": null,
   "metadata": {
    "slideshow": {
     "slide_type": "fragment"
    }
   },
   "outputs": [],
   "source": [
    "@quote\n",
    "def make_text(name):\n",
    "    return f\"Hi there {name}\"\n",
    "\n",
    "print(make_text('Bob'))"
   ]
  },
  {
   "cell_type": "markdown",
   "metadata": {
    "slideshow": {
     "slide_type": "subslide"
    }
   },
   "source": [
    "Now we need to write the decorator. We make the quote very obvious"
   ]
  },
  {
   "cell_type": "code",
   "execution_count": null,
   "metadata": {
    "slideshow": {
     "slide_type": "fragment"
    }
   },
   "outputs": [],
   "source": [
    "def quote(func):\n",
    "    def wrapper(*args,**kwargs):\n",
    "        return '>>>>' + func(*args, **kwargs) + '<<<<'\n",
    "    return wrapper\n",
    "    \n",
    "@quote\n",
    "def make_text(name):\n",
    "    return f\"Hi there {name}\"\n",
    "\n",
    "print(make_text('Bob'))"
   ]
  },
  {
   "cell_type": "markdown",
   "metadata": {
    "slideshow": {
     "slide_type": "subslide"
    }
   },
   "source": [
    "If we want to pass arguments to the decorator we need one more level of nested functions in the decorator. The outermost one taking the decorator arguments as its arguments, the next level taking the function and the innermost one taking the arguments to the function we are decorating as its own arguments"
   ]
  },
  {
   "cell_type": "code",
   "execution_count": null,
   "metadata": {
    "slideshow": {
     "slide_type": "fragment"
    }
   },
   "outputs": [],
   "source": [
    "def quote(pre_chars, post_chars):\n",
    "    def decorator(func):\n",
    "        def wrapper(*args,**kwargs):\n",
    "            return pre_chars + func(*args, **kwargs) + post_chars\n",
    "        return wrapper\n",
    "    return decorator\n",
    "    \n",
    "@quote('>>>', '<<<')\n",
    "def make_text(name):\n",
    "    return f\"Hi there {name}\"\n",
    "\n",
    "print(make_text('Bob'))"
   ]
  },
  {
   "cell_type": "markdown",
   "metadata": {
    "slideshow": {
     "slide_type": "subslide"
    }
   },
   "source": [
    "It is considered good habit to decorate the innermost function in the decorator with @wraps. The reason for this is preserve metadata about the decorated function. We need to import wraps from functools."
   ]
  },
  {
   "cell_type": "markdown",
   "metadata": {
    "slideshow": {
     "slide_type": "subslide"
    }
   },
   "source": [
    "First let us print the name of the decorated function without wraps"
   ]
  },
  {
   "cell_type": "code",
   "execution_count": null,
   "metadata": {
    "slideshow": {
     "slide_type": "fragment"
    }
   },
   "outputs": [],
   "source": [
    "def quote(pre_chars, post_chars):\n",
    "    def decorator(func):\n",
    "        def wrapper(*args,**kwargs):\n",
    "            return pre_chars + func(*args, **kwargs) + post_chars\n",
    "        return wrapper\n",
    "    return decorator\n",
    "    \n",
    "@quote('>>>', '<<<')\n",
    "def make_text(name):\n",
    "    return f\"Hi there {name}\"\n",
    "\n",
    "print(make_text.__name__)"
   ]
  },
  {
   "cell_type": "markdown",
   "metadata": {
    "slideshow": {
     "slide_type": "subslide"
    }
   },
   "source": [
    "And now with wraps"
   ]
  },
  {
   "cell_type": "code",
   "execution_count": null,
   "metadata": {
    "slideshow": {
     "slide_type": "fragment"
    }
   },
   "outputs": [],
   "source": [
    "from functools import wraps\n",
    "\n",
    "def quote(pre_chars, post_chars):\n",
    "    def decorator(func):\n",
    "        @wraps(func)\n",
    "        def wrapper(*args,**kwargs):\n",
    "            return pre_chars + func(*args, **kwargs) + post_chars\n",
    "        return wrapper\n",
    "    return decorator\n",
    "    \n",
    "@quote('>>>', '<<<')\n",
    "def make_text(name):\n",
    "    return f\"Hi there {name}\"\n",
    "\n",
    "print(make_text.__name__)"
   ]
  },
  {
   "cell_type": "markdown",
   "metadata": {
    "slideshow": {
     "slide_type": "subslide"
    }
   },
   "source": [
    "## Now to the topic, separating admin and business logic with decorators"
   ]
  },
  {
   "cell_type": "markdown",
   "metadata": {
    "slideshow": {
     "slide_type": "subslide"
    }
   },
   "source": [
    "Often, we mix admin and business logic in our programs. To make them easier to maintain we should keep these two apart. First let's look at a small example where they are not separated.\n",
    "\n",
    "In this case we will create a function that will download webpages with the help of the requests module. If we already have downloaded the page once we want to make sure that we use the same copy as we downloaded before so we introduce a cache."
   ]
  },
  {
   "cell_type": "markdown",
   "metadata": {
    "slideshow": {
     "slide_type": "subslide"
    }
   },
   "source": [
    "This can be done like this"
   ]
  },
  {
   "cell_type": "code",
   "execution_count": null,
   "metadata": {
    "slideshow": {
     "slide_type": "fragment"
    }
   },
   "outputs": [],
   "source": [
    "import requests\n",
    "\n",
    "def web_lookup(url,saved={}):\n",
    "    if url in saved:\n",
    "        return saved[url]\n",
    "    page = requests.get(url).text\n",
    "    saved[url] = page\n",
    "    return page\n",
    "\n",
    "r1 = web_lookup('http://cnn.com')\n",
    "r2 = web_lookup('http://cnn.com')\n",
    "print(r1==r2)\n"
   ]
  },
  {
   "cell_type": "markdown",
   "metadata": {
    "slideshow": {
     "slide_type": "subslide"
    }
   },
   "source": [
    "In this case the second call to web-lookup will use the cached version of the page. we can also see that the two results are equal.\n",
    "\n",
    "The web-lookup function is interesting in how it creates the cache dictionary. As it is set as a default value argument it will be created at compile-time. Then the same dictionary will be used every time, so when we add a URL key to it will be stored.\n",
    "\n",
    "The problem here is that we have the business logic, getting the web page, mixed in with the admin logic, using and managing the cache."
   ]
  },
  {
   "cell_type": "markdown",
   "metadata": {
    "slideshow": {
     "slide_type": "subslide"
    }
   },
   "source": [
    " A nice way to separate the two is with the help of a decorator that will take care of the admin logic so we can lift it from the function."
   ]
  },
  {
   "cell_type": "code",
   "execution_count": null,
   "metadata": {
    "slideshow": {
     "slide_type": "fragment"
    }
   },
   "outputs": [],
   "source": [
    "from functools import wraps\n",
    "import requests\n",
    "\n",
    "def cache(func):\n",
    "    saved ={}\n",
    "    @wraps(func)\n",
    "    def cacher(*args):\n",
    "        if args in saved:\n",
    "            return saved[args]\n",
    "        result = func(*args)\n",
    "        saved[args] = result\n",
    "        return result\n",
    "    return cacher\n",
    "\n",
    "\n",
    "@cache\n",
    "def web_lookup(url):\n",
    "    return requests.get(url).text\n",
    "\n",
    "r1 = web_lookup('http://cnn.com')\n",
    "r2 = web_lookup('http://cnn.com')\n",
    "print(r1==r2)\n"
   ]
  },
  {
   "cell_type": "markdown",
   "metadata": {
    "slideshow": {
     "slide_type": "subslide"
    }
   },
   "source": [
    "Here the cache dict is stored as a closure. As a dict is mutable it will not be overwritten with a new dict when we add to it. It is now easy to see what web_lookup does as the only thing left there is the business logic. "
   ]
  },
  {
   "cell_type": "markdown",
   "metadata": {
    "slideshow": {
     "slide_type": "slide"
    }
   },
   "source": [
    "<h1 style=\"text-align: center;\">9. Type annotations</h1>"
   ]
  },
  {
   "cell_type": "markdown",
   "metadata": {
    "slideshow": {
     "slide_type": "subslide"
    }
   },
   "source": [
    "Even though Python is a dynamically typed language there are some good reasons to use the built-in type annotations"
   ]
  },
  {
   "cell_type": "code",
   "execution_count": null,
   "metadata": {
    "slideshow": {
     "slide_type": "fragment"
    }
   },
   "outputs": [],
   "source": [
    "from typing import List\n",
    "\n",
    "\n",
    "def rotate_list(the_list: List, n: int) -> Li st:\n",
    "    \"\"\"\n",
    "    Function that rotates a list n steps\n",
    "    :param the_list: list\n",
    "    :param n: int\n",
    "    :return: list\n",
    "    \"\"\"\n",
    "    return  the_list[-n:] + the_list[:-n]\n",
    "\n",
    "\n",
    "my_list = [1, 2, 3, 4]\n",
    "my_list = rotate_list(my_list, 3)\n",
    "print(my_list)\n",
    "\n",
    "\n",
    "\n",
    "# The editor can now warn us if we use it with the wrong types\n",
    "# rotate_list(5,'x')"
   ]
  },
  {
   "cell_type": "markdown",
   "metadata": {
    "slideshow": {
     "slide_type": "fragment"
    }
   },
   "source": [
    "<img src=\"http://arthead.se/python/pycharm1.jpg\">"
   ]
  },
  {
   "cell_type": "markdown",
   "metadata": {
    "slideshow": {
     "slide_type": "subslide"
    }
   },
   "source": [
    "As of Python 3.6 we have variable type annotations:"
   ]
  },
  {
   "cell_type": "code",
   "execution_count": null,
   "metadata": {
    "collapsed": true,
    "slideshow": {
     "slide_type": "fragment"
    }
   },
   "outputs": [],
   "source": [
    "from typing import List, Dict\n",
    "\n",
    "# From offical doc\n",
    "primesimes: List[int] = []\n",
    "\n",
    "captain: str  # Note: no initial value!\n",
    "\n",
    "class Starship:\n",
    "    stats: Dict[str, int] = {}"
   ]
  },
  {
   "cell_type": "markdown",
   "metadata": {
    "slideshow": {
     "slide_type": "slide"
    }
   },
   "source": [
    "<h1 style=\"text-align: center;\">10. Enforce  argument type checking </h1>"
   ]
  },
  {
   "cell_type": "markdown",
   "metadata": {
    "slideshow": {
     "slide_type": "subslide"
    }
   },
   "source": [
    "With some effort, it is possible to enforce type checking in Python. We can do this by creating a decorator that will take the accepted types as arguments and then check the actual types of the passed data to the function. <br>\n",
    "The syntax is not the most elegant, but it works."
   ]
  },
  {
   "cell_type": "markdown",
   "metadata": {
    "slideshow": {
     "slide_type": "subslide"
    }
   },
   "source": [
    "First we need to create the decorator. Let's do it step by step"
   ]
  },
  {
   "cell_type": "code",
   "execution_count": null,
   "metadata": {
    "slideshow": {
     "slide_type": "fragment"
    }
   },
   "outputs": [],
   "source": [
    "from inspect import signature\n",
    "from functools import wraps\n",
    "\n",
    "def typeassert(*ty_args, **ty_kwargs):\n",
    "    def decorate(func):\n",
    "        # If in optimized mode, disable type checking\n",
    "        if not __debug__:\n",
    "            return func\n",
    "\n",
    "        # signature can extract the argument names\n",
    "        print(signature(func))\n",
    "\n",
    "        @wraps(func)\n",
    "        def wrapper(*args, **kwargs):\n",
    "            return func(*args, **kwargs)\n",
    "        return wrapper\n",
    "    return decorate\n",
    "\n",
    "@typeassert(str, int, int)\n",
    "def test_func(a, b, c):\n",
    "    pass\n",
    "\n",
    "test_func('aha', 2, 3)    "
   ]
  },
  {
   "cell_type": "code",
   "execution_count": null,
   "metadata": {
    "slideshow": {
     "slide_type": "subslide"
    }
   },
   "outputs": [],
   "source": [
    "from inspect import signature\n",
    "from functools import wraps\n",
    "\n",
    "def typeassert(*ty_args, **ty_kwargs):\n",
    "    def decorate(func):\n",
    "        # If in optimized mode, disable type checking\n",
    "        if not __debug__:\n",
    "            return func\n",
    "\n",
    "        # Map function argument names to supplied types\n",
    "        sig = signature(func)\n",
    "        # Bind partial returns an instance of BoundArguments\n",
    "        bound_arguments = sig.bind_partial(*ty_args, **ty_kwargs)\n",
    "        print(bound_arguments)\n",
    "        # The arguments property of BoundArguments give us the arguments and their types as an oOrderedDict\n",
    "        bound_types = sig.bind_partial(*ty_args, **ty_kwargs).arguments\n",
    "        print(bound_types)\n",
    "        \n",
    "        @wraps(func)\n",
    "        def wrapper(*args, **kwargs):\n",
    "            return func(*args, **kwargs)\n",
    "        return wrapper\n",
    "    return decorate\n",
    "\n",
    "@typeassert(str,int,int)\n",
    "def test_func(a, b, c):\n",
    "    pass\n",
    "\n",
    "test_func('aha', 2, 3)    "
   ]
  },
  {
   "cell_type": "code",
   "execution_count": null,
   "metadata": {
    "slideshow": {
     "slide_type": "subslide"
    }
   },
   "outputs": [],
   "source": [
    "from inspect import signature\n",
    "from functools import wraps\n",
    "\n",
    "def typeassert(*ty_args, **ty_kwargs):\n",
    "    def decorate(func):\n",
    "        # If in optimized mode, disable type checking\n",
    "        if not __debug__:\n",
    "            return func\n",
    "\n",
    "        # Map function argument names to supplied types\n",
    "        sig = signature(func)\n",
    "        bound_types = sig.bind_partial(*ty_args, **ty_kwargs).arguments\n",
    "        \n",
    "        @wraps(func)\n",
    "        def wrapper(*args, **kwargs):\n",
    "            # Get the arguments to the function and their values\n",
    "            bound_values = sig.bind(*args, **kwargs)\n",
    "            print(bound_values)\n",
    "            return func(*args, **kwargs)\n",
    "        return wrapper\n",
    "    return decorate\n",
    "\n",
    "@typeassert(str,int,int)\n",
    "def test_func(a, b, c):\n",
    "    pass\n",
    "\n",
    "test_func('aha', 2, 3)    "
   ]
  },
  {
   "cell_type": "code",
   "execution_count": null,
   "metadata": {
    "scrolled": true,
    "slideshow": {
     "slide_type": "subslide"
    }
   },
   "outputs": [],
   "source": [
    "from inspect import signature\n",
    "from functools import wraps\n",
    "\n",
    "def typeassert(*ty_args, **ty_kwargs):\n",
    "    def decorate(func):\n",
    "        # If in optimized mode, disable type checking\n",
    "        if not __debug__:\n",
    "            return func\n",
    "\n",
    "        # Map function argument names to supplied types\n",
    "        sig = signature(func)\n",
    "        bound_types = sig.bind_partial(*ty_args, **ty_kwargs).arguments\n",
    "        \n",
    "        @wraps(func)\n",
    "        def wrapper(*args, **kwargs):\n",
    "            bound_values = sig.bind(*args, **kwargs)\n",
    "            # This is what we got so far\n",
    "            print('sig =', sig)\n",
    "            print('bound_types =', bound_types)\n",
    "            print('bound_values =', bound_values.arguments)\n",
    "            return func(*args, **kwargs)\n",
    "        return wrapper\n",
    "    return decorate\n",
    "\n",
    "@typeassert(str,int,int)\n",
    "def test_func(a, b, c):\n",
    "    pass\n",
    "\n",
    "test_func('aha', 2, 3)    "
   ]
  },
  {
   "cell_type": "code",
   "execution_count": null,
   "metadata": {
    "slideshow": {
     "slide_type": "subslide"
    }
   },
   "outputs": [],
   "source": [
    "from inspect import signature\n",
    "from functools import wraps\n",
    "\n",
    "def typeassert(*ty_args, **ty_kwargs):\n",
    "    def decorate(func):\n",
    "        # If in optimized mode, disable type checking\n",
    "        if not __debug__:\n",
    "            return func\n",
    "\n",
    "        # Map function argument names to supplied types\n",
    "        sig = signature(func)\n",
    "        bound_types = sig.bind_partial(*ty_args, **ty_kwargs).arguments\n",
    "        \n",
    "        @wraps(func)\n",
    "        def wrapper(*args, **kwargs):\n",
    "            bound_values = sig.bind(*args, **kwargs)\n",
    "            # Iterate over the dict in bound_values to axtract argument name and argument value\n",
    "            for name, value in bound_values.arguments.items():\n",
    "                print(name, value)\n",
    "            return func(*args, **kwargs)\n",
    "        return wrapper\n",
    "    return decorate\n",
    "\n",
    "@typeassert(str,int,int)\n",
    "def test_func(a, b, c):\n",
    "    pass\n",
    "\n",
    "\n",
    "test_func('aha', 2, 3) "
   ]
  },
  {
   "cell_type": "code",
   "execution_count": null,
   "metadata": {
    "slideshow": {
     "slide_type": "subslide"
    }
   },
   "outputs": [],
   "source": [
    "from inspect import signature\n",
    "from functools import wraps\n",
    "\n",
    "def typeassert(*ty_args, **ty_kwargs):\n",
    "    def decorate(func):\n",
    "        # If in optimized mode, disable type checking\n",
    "        if not __debug__:\n",
    "            return func\n",
    "\n",
    "        # Map function argument names to supplied types\n",
    "        sig = signature(func)\n",
    "        bound_types = sig.bind_partial(*ty_args, **ty_kwargs).arguments\n",
    "        \n",
    "        @wraps(func)\n",
    "        def wrapper(*args, **kwargs):\n",
    "            bound_values = sig.bind(*args, **kwargs)\n",
    "            for name, value in bound_values.arguments.items():\n",
    "                # Now we can look for the argument name in bound_types\n",
    "                if name in bound_types:\n",
    "                    # We can use name as the key for the bound_types dict to get the expected type\n",
    "                    print(name, value, bound_types[name])\n",
    "            return func(*args, **kwargs)\n",
    "        return wrapper\n",
    "    return decorate\n",
    "\n",
    "@typeassert(str,int,int)\n",
    "def test_func(a, b, c):\n",
    "    pass\n",
    "\n",
    "\n",
    "test_func('aha', 2, 3) "
   ]
  },
  {
   "cell_type": "code",
   "execution_count": null,
   "metadata": {
    "slideshow": {
     "slide_type": "subslide"
    }
   },
   "outputs": [],
   "source": [
    "from inspect import signature\n",
    "from functools import wraps\n",
    "\n",
    "def typeassert(*ty_args, **ty_kwargs):\n",
    "    def decorate(func):\n",
    "        # If in optimized mode, disable type checking\n",
    "        if not __debug__:\n",
    "            return func\n",
    "\n",
    "        # Map function argument names to supplied types\n",
    "        sig = signature(func)\n",
    "        bound_types = sig.bind_partial(*ty_args, **ty_kwargs).arguments\n",
    "        \n",
    "        @wraps(func)\n",
    "        def wrapper(*args, **kwargs):\n",
    "            bound_values = sig.bind(*args, **kwargs)\n",
    "            for name, value in bound_values.arguments.items():\n",
    "                if name in bound_types:\n",
    "                    # Now it is time to check if the passed argument has the same type as we expected\n",
    "                    if not isinstance(value, bound_types[name]):\n",
    "                        # If not we know it here\n",
    "                        print(f'Argument {name} must be  of type {bound_types[name]}')\n",
    "            return func(*args, **kwargs)\n",
    "        return wrapper\n",
    "    return decorate\n",
    "\n",
    "@typeassert(str,int,int)\n",
    "def test_func(a, b, c):\n",
    "    pass\n",
    "\n",
    "\n",
    "test_func('aha', '2', 3) "
   ]
  },
  {
   "cell_type": "code",
   "execution_count": null,
   "metadata": {
    "slideshow": {
     "slide_type": "subslide"
    }
   },
   "outputs": [],
   "source": [
    "from inspect import signature\n",
    "from functools import wraps\n",
    "\n",
    "def typeassert(*ty_args, **ty_kwargs):\n",
    "    def decorate(func):\n",
    "        # If in optimized mode, disable type checking\n",
    "        if not __debug__:\n",
    "            return func\n",
    "\n",
    "        # Map function argument names to supplied types\n",
    "        sig = signature(func)       \n",
    "        bound_types = sig.bind_partial(*ty_args, **ty_kwargs).arguments\n",
    "\n",
    "        @wraps(func)\n",
    "        def wrapper(*args, **kwargs):\n",
    "            bound_values = sig.bind(*args, **kwargs)\n",
    "            # Enforce type assertions across supplied arguments\n",
    "            for name, value in bound_values.arguments.items():\n",
    "                if name in bound_types:\n",
    "                    if not isinstance(value, bound_types[name]):\n",
    "                        # Raise an exception if we get the wrong type\n",
    "                        raise TypeError(f'Argument {name} must be of type {bound_types[name]}')\n",
    "            return func(*args, **kwargs)\n",
    "        return wrapper\n",
    "    return decorate\n",
    "\n",
    "@typeassert(str,int,int)\n",
    "def test_func(a, b, c):\n",
    "    pass\n",
    "\n",
    "test_func('aha', '2', 3) "
   ]
  },
  {
   "cell_type": "markdown",
   "metadata": {
    "slideshow": {
     "slide_type": "subslide"
    }
   },
   "source": [
    "A nicer way would be if we could use Python's type annotations to specify the types.\n",
    "\n",
    "```python\n",
    "@typecheck\n",
    "def test_func2(a: int, b: str) -> int:\n",
    "    return 1\n",
    "```"
   ]
  },
  {
   "cell_type": "markdown",
   "metadata": {
    "slideshow": {
     "slide_type": "fragment"
    }
   },
   "source": [
    "The decorator will look a bit different"
   ]
  },
  {
   "cell_type": "markdown",
   "metadata": {
    "slideshow": {
     "slide_type": "fragment"
    }
   },
   "source": [
    "* The decorator does not take any arguments, so the decorator only needs on level of nested functions instead of two\n"
   ]
  },
  {
   "cell_type": "markdown",
   "metadata": {
    "slideshow": {
     "slide_type": "fragment"
    }
   },
   "source": [
    "* We can use the getmembers function from the inspect module and look for the member __annotations__. From that we can extract a dictionary containing the argument name and it's type. The function above will yield \n",
    "```python\n",
    "{'a': <class 'int'>, 'b': <class 'str'>, 'return': <class 'int'>}\n",
    "```"
   ]
  },
  {
   "cell_type": "markdown",
   "metadata": {
    "slideshow": {
     "slide_type": "fragment"
    }
   },
   "source": [
    "* To be able to check the return value type we must first execute the function and then inspect the type of the returned value"
   ]
  },
  {
   "cell_type": "code",
   "execution_count": null,
   "metadata": {
    "slideshow": {
     "slide_type": "subslide"
    }
   },
   "outputs": [],
   "source": [
    "from inspect import signature, getmembers\n",
    "from functools import wraps\n",
    "\n",
    "def typecheck(func):\n",
    "    if not __debug__:\n",
    "        return func\n",
    "\n",
    "    sig = signature(func)\n",
    "    @wraps(func)\n",
    "    def decorate(*args, **kwargs):\n",
    "        print(f'sig.bind_partial = {sig.bind_partial(*args, **kwargs)}')\n",
    "        bound_types = sig.bind_partial(*args, **kwargs).arguments\n",
    "        print(f'sig.bind_partial(*args, **kwargs).arguments = {bound_types}')\n",
    "        \n",
    "        for name, data in getmembers(func):\n",
    "            if name == '__annotations__':\n",
    "                print(f'When name = {name} data = {data}')\n",
    "        return func(*args,**kwargs)\n",
    "    return decorate\n",
    "\n",
    "@typecheck\n",
    "def test_func2(a: int, b: str) -> int:\n",
    "    return a\n",
    "\n",
    "\n",
    "print(test_func2(1, 'Hi'))"
   ]
  },
  {
   "cell_type": "code",
   "execution_count": null,
   "metadata": {
    "slideshow": {
     "slide_type": "subslide"
    }
   },
   "outputs": [],
   "source": [
    "from inspect import signature, getmembers\n",
    "from functools import wraps\n",
    "\n",
    "def typecheck(func):\n",
    "    if not __debug__:\n",
    "        return func\n",
    "\n",
    "    sig = signature(func)\n",
    "    @wraps(func)\n",
    "    def decorate(*args, **kwargs):\n",
    "        bound_types = sig.bind_partial(*args, **kwargs).arguments\n",
    "        for name, data in getmembers(func):\n",
    "            if name == '__annotations__':\n",
    "                if len(data) > 0: # Found __annotations__, exit\n",
    "                    break\n",
    "        else:\n",
    "            # No type annotations found, just call the function\n",
    "            return func(*args,**kwargs)\n",
    "        got_return_type = False\n",
    "        for name, value in data.items():\n",
    "            # Not checking the return type here, just the argument types\n",
    "            if name != 'return':\n",
    "                if value !=  type(bound_types[name]):\n",
    "                    raise TypeError(f'Argument {name} to {func.__name__} must be {value}')\n",
    "            else: # So we have a return type, lets indicate this and store the expected type\n",
    "                got_return_type = True\n",
    "                expected_return_type = value\n",
    "        # To be able to check the ruturn value we need to execute the function\n",
    "        return_value = func(*args,**kwargs)\n",
    "        \n",
    "        # Was a return type defined?\n",
    "        if got_return_type:\n",
    "            # Is the data type of the value acctually returned the expected one?\n",
    "            if not isinstance(return_value, expected_return_type):\n",
    "                raise TypeError(\n",
    "                    f'Function {func.__name__} must return a {expected_return_type} but {type(return_value)} was returned'\n",
    "                )\n",
    "        return return_value\n",
    "\n",
    "    return decorate\n",
    "\n",
    "@typecheck\n",
    "def test_func2(a: int, b: str) -> int:\n",
    "    return 1\n",
    "\n",
    "@typecheck\n",
    "def test_func3(a: int, b: str) -> int:\n",
    "    return str(a) + b # Returning a string will not work\n",
    "\n",
    "print(test_func2(1, 'Hi'))\n",
    "print(test_func3(1, 'Hi'))"
   ]
  },
  {
   "cell_type": "markdown",
   "metadata": {
    "slideshow": {
     "slide_type": "slide"
    }
   },
   "source": [
    "<h1 style=\"text-align: center;\">11. Capturing values in a lambda</h1>"
   ]
  },
  {
   "cell_type": "markdown",
   "metadata": {
    "slideshow": {
     "slide_type": "subslide"
    }
   },
   "source": [
    "One source to bugs and lots of confusion has to do with lambdas and values captured from the enclosing scope. If we are using this feature it is important to understand when things are executed in Python.\n",
    "\n",
    "In the example below we have a variable x that is captured and used inside a lambda. We store a reference to this lambda and call it at a later point.  "
   ]
  },
  {
   "cell_type": "code",
   "execution_count": null,
   "metadata": {
    "slideshow": {
     "slide_type": "fragment"
    }
   },
   "outputs": [],
   "source": [
    "x = 10\n",
    "f1 = lambda y: print('x =', x, 'y =', y, 'x+y =', x+y)\n",
    "x = 20\n",
    "f2 = lambda y: print('x =', x, 'y =', y, 'x+y =', x+y)\n",
    "\n",
    "# ...\n",
    "f1(10)\n",
    "f2(10)\n",
    "x=1\n",
    "f1(10)\n"
   ]
  },
  {
   "cell_type": "markdown",
   "metadata": {
    "slideshow": {
     "slide_type": "fragment"
    }
   },
   "source": [
    "As we can see, the value used for x is the current value x has at the time of execution and not the value as it was at the time of declaration."
   ]
  },
  {
   "cell_type": "markdown",
   "metadata": {
    "slideshow": {
     "slide_type": "subslide"
    }
   },
   "source": [
    "This might be the behavior we want, but if we want to capture the value at the time of declaration we must capture it using a named parameter"
   ]
  },
  {
   "cell_type": "code",
   "execution_count": null,
   "metadata": {
    "slideshow": {
     "slide_type": "fragment"
    }
   },
   "outputs": [],
   "source": [
    "x = 10\n",
    "f1 = lambda y, x=x: print('x =', x, 'y =', y, 'x+y =', x+y)\n",
    "x = 20\n",
    "f2 = lambda y, x=x: print('x =', x, 'y =', y, 'x+y =', x+y)\n",
    "\n",
    "# ...\n",
    "f1(10)\n",
    "f2(10)\n",
    "x=1\n",
    "f1(10)"
   ]
  },
  {
   "cell_type": "markdown",
   "metadata": {
    "slideshow": {
     "slide_type": "slide"
    }
   },
   "source": [
    "<h1 style=\"text-align: center;\">12. Naming slices</h1>"
   ]
  },
  {
   "cell_type": "markdown",
   "metadata": {
    "slideshow": {
     "slide_type": "subslide"
    }
   },
   "source": [
    "Slices is a fantastic way to extract a section from a sequence. Consider the sequence of numbers below and that numbers at some positions of this sequence has a special meaning. We can extract that data using slices."
   ]
  },
  {
   "cell_type": "code",
   "execution_count": null,
   "metadata": {
    "slideshow": {
     "slide_type": "fragment"
    }
   },
   "outputs": [],
   "source": [
    "data = \"65231611135643131568796668975653216546131656898764654313468798796543158464\"\n",
    "\n",
    "print('Price:', data[23:28])\n",
    "print('Amount:', data[31:33])\n"
   ]
  },
  {
   "cell_type": "markdown",
   "metadata": {
    "slideshow": {
     "slide_type": "subslide"
    }
   },
   "source": [
    "The problem is that the slice \n",
    "```python \n",
    "data[23:28]\n",
    "``` \n",
    "does not say anything about what this slice is for.\n",
    "We can make our code more readable by naming our slices."
   ]
  },
  {
   "cell_type": "code",
   "execution_count": null,
   "metadata": {
    "slideshow": {
     "slide_type": "fragment"
    }
   },
   "outputs": [],
   "source": [
    "data = \"65231611135643131568796668975653216546131656898764654313468798796543158464\"\n",
    "\n",
    "PRICE = slice(23,28)\n",
    "AMOUNT = slice(31,33)\n",
    "print('Price:', data[PRICE])\n",
    "print('Amount:', data[AMOUNT])\n"
   ]
  },
  {
   "cell_type": "markdown",
   "metadata": {
    "slideshow": {
     "slide_type": "slide"
    }
   },
   "source": [
    "<h1 style=\"text-align: center;\">13. The power of partial</h1>"
   ]
  },
  {
   "cell_type": "markdown",
   "metadata": {
    "slideshow": {
     "slide_type": "subslide"
    }
   },
   "source": [
    "Partial from tools functools module makes it possible to  create new function-like objects that can wrap existing functions and make them behave like new functions.\n",
    "\n",
    "Assume that we a function that accepts two values, x and base and returns x to the power of base. Here it is in the form of a lambda: "
   ]
  },
  {
   "cell_type": "code",
   "execution_count": null,
   "metadata": {
    "collapsed": true,
    "slideshow": {
     "slide_type": "fragment"
    }
   },
   "outputs": [],
   "source": [
    "power = lambda x, base: x**base"
   ]
  },
  {
   "cell_type": "markdown",
   "metadata": {
    "slideshow": {
     "slide_type": "subslide"
    }
   },
   "source": [
    "We can now call it with different values like this:"
   ]
  },
  {
   "cell_type": "code",
   "execution_count": null,
   "metadata": {
    "slideshow": {
     "slide_type": "fragment"
    }
   },
   "outputs": [],
   "source": [
    "print(power(2,3))\n",
    "print(power(6,3))"
   ]
  },
  {
   "cell_type": "markdown",
   "metadata": {
    "slideshow": {
     "slide_type": "subslide"
    }
   },
   "source": [
    "If we now want a functions that always square and cube a number we can make them like this:"
   ]
  },
  {
   "cell_type": "code",
   "execution_count": null,
   "metadata": {
    "collapsed": true,
    "slideshow": {
     "slide_type": "fragment"
    }
   },
   "outputs": [],
   "source": [
    "square = lambda x: x**2\n",
    "cube = lambda x: x**3 "
   ]
  },
  {
   "cell_type": "markdown",
   "metadata": {
    "slideshow": {
     "slide_type": "subslide"
    }
   },
   "source": [
    "But what if we have many of these functions. As we already have a function to raise any number to any power we can use it together with partial to create new partial objects that behaves like functions. We can create the square function like this:"
   ]
  },
  {
   "cell_type": "code",
   "execution_count": null,
   "metadata": {
    "slideshow": {
     "slide_type": "fragment"
    }
   },
   "outputs": [],
   "source": [
    "from functools import partial\n",
    "\n",
    "\n",
    "square = partial(power, base=2)\n",
    "print(square(4))"
   ]
  },
  {
   "cell_type": "markdown",
   "metadata": {
    "slideshow": {
     "slide_type": "subslide"
    }
   },
   "source": [
    "If we now need lots of these functions they can be made in a loop"
   ]
  },
  {
   "cell_type": "code",
   "execution_count": null,
   "metadata": {
    "slideshow": {
     "slide_type": "fragment"
    }
   },
   "outputs": [],
   "source": [
    "powers = (partial(power, base=n) for n in range(100))\n",
    "for i, f in enumerate(powers):\n",
    "    print(f(2))\n",
    "    if i == 3:\n",
    "        break"
   ]
  },
  {
   "cell_type": "markdown",
   "metadata": {
    "slideshow": {
     "slide_type": "subslide"
    }
   },
   "source": [
    "The above example might not be that useful in production code so when is this useful?\n",
    "Next example is a modified version of a problem solved with partial. We have a list and two dict with keys matching the values in the list. \n",
    "```python\n",
    "l = [23, 19, 4, 6, 7]\n",
    "\n",
    "my_dict1 = { 19 : ['Bob', 18], 7 : ['Anna', 34], 4 : ['Sara', 16], 6 : ['Peter', 42], 23 : ['John', 64] }\n",
    "\n",
    "my_dict2 = { 19: ['Sally', 45], 4 : ['Amy', 14], 23 : ['Liam', 25], 7: ['Leah', 41], 6 : ['Frank', 78] }\n",
    "```\n",
    "Each value in the dics is a list with a name and an age. We want to sort the list by one of the dicts and sometimes use the names and sometimes the ages as keys to the sorting algorithm. The problem is that sorted expects a function that takes one argument and we want to use a function that takes three. \n",
    "```python\n",
    "def sort_by(key_val, dict_to_use, field):\n",
    "    return dict_to_use[key_val][field]\n",
    "```\n",
    "Partial to the resque."
   ]
  },
  {
   "cell_type": "code",
   "execution_count": null,
   "metadata": {
    "slideshow": {
     "slide_type": "subslide"
    }
   },
   "outputs": [],
   "source": [
    "from functools import partial\n",
    "\n",
    "\n",
    "def sort_by(key_val, dict_to_use, field):\n",
    "    return dict_to_use[key_val][field]\n",
    "\n",
    "l = [23, 19, 4, 6, 7]\n",
    "\n",
    "my_dict1 = { 19 : ['Bob', 18], 7 : ['Anna', 34], 4 : ['Sara', 16], 6 : ['Peter', 42], 23 : ['John', 64] }\n",
    "\n",
    "my_dict2 = { 19: ['Sally', 45], 4 : ['Amy', 14], 23 : ['Liam', 25], 7: ['Leah', 41], 6 : ['Frank', 78] }\n",
    "\n",
    "sort_on_dict1_age = partial(sort_by, dict_to_use=my_dict1, field=1)\n",
    "sort_on_dict1_name = partial(sort_by, dict_to_use=my_dict1, field=0)\n",
    "sort_on_dict2_age = partial(sort_by, dict_to_use=my_dict2, field=1)\n",
    "sort_on_dict2_name = partial(sort_by, dict_to_use=my_dict2, field=0)\n",
    "\n",
    "\n",
    "print(sorted(l, key=lambda k: sort_on_dict1_age(k)))\n",
    "print(sorted(l, key=lambda k: sort_on_dict1_name(k)))\n",
    "print(sorted(l, key=lambda k: sort_on_dict2_age(k)))\n",
    "print(sorted(l, key=lambda k: sort_on_dict2_name(k)))"
   ]
  },
  {
   "cell_type": "markdown",
   "metadata": {
    "collapsed": true,
    "slideshow": {
     "slide_type": "slide"
    }
   },
   "source": [
    "<h1 style=\"text-align: center;\">14. One-line constructors</h1>"
   ]
  },
  {
   "cell_type": "markdown",
   "metadata": {
    "slideshow": {
     "slide_type": "subslide"
    }
   },
   "source": [
    "We are often faced with constructors like this:"
   ]
  },
  {
   "cell_type": "code",
   "execution_count": null,
   "metadata": {
    "collapsed": true,
    "slideshow": {
     "slide_type": "fragment"
    }
   },
   "outputs": [],
   "source": [
    "class A:\n",
    "    def __init__(self, a, b, c, d):\n",
    "        self.a = a\n",
    "        self.b = b\n",
    "        self.c = c\n",
    "        self.d = d\n",
    "        \n",
    "a = A('Alpha', 'Bravo', 'Charlie', 'Delta')\n"
   ]
  },
  {
   "cell_type": "markdown",
   "metadata": {
    "slideshow": {
     "slide_type": "subslide"
    }
   },
   "source": [
    "The question is, can we get away from the boilerplate assignments in the constructor?<br>\n",
    "We can, but first let us examine how member variables are stored in a class"
   ]
  },
  {
   "cell_type": "code",
   "execution_count": null,
   "metadata": {
    "slideshow": {
     "slide_type": "fragment"
    }
   },
   "outputs": [],
   "source": [
    "class A:\n",
    "    def __init__(self, a, b, c, d):\n",
    "        self.a = a\n",
    "        self.b = b\n",
    "        self.c = c\n",
    "        self.d = d\n",
    "        print(self.__dict__)\n",
    "        \n",
    "a = A('Alpha', 'Bravo', 'Charlie', 'Delta')\n"
   ]
  },
  {
   "cell_type": "markdown",
   "metadata": {
    "slideshow": {
     "slide_type": "subslide"
    }
   },
   "source": [
    "They are stored in a dictionary. So this means that we can assign to this dictionary too"
   ]
  },
  {
   "cell_type": "code",
   "execution_count": null,
   "metadata": {
    "slideshow": {
     "slide_type": "fragment"
    }
   },
   "outputs": [],
   "source": [
    "class A:\n",
    "    def __init__(self, a, b, c, d):\n",
    "        self.a = a\n",
    "        self.b = b\n",
    "        self.c = c\n",
    "        self.__dict__.update({'d': d})\n",
    "        print(self.__dict__)\n",
    "        \n",
    "a = A('Alpha', 'Bravo', 'Charlie', 'Delta')\n"
   ]
  },
  {
   "cell_type": "markdown",
   "metadata": {
    "slideshow": {
     "slide_type": "subslide"
    }
   },
   "source": [
    "Next question is, how can we get the arguments sent to the constructor?<br>\n",
    "Let's see what the locals function returns"
   ]
  },
  {
   "cell_type": "code",
   "execution_count": null,
   "metadata": {
    "slideshow": {
     "slide_type": "fragment"
    }
   },
   "outputs": [],
   "source": [
    "class A:\n",
    "    def __init__(self, a, b, c, d):\n",
    "         print(locals())\n",
    "        \n",
    "a = A('Alpha', 'Bravo', 'Charlie', 'Delta')\n"
   ]
  },
  {
   "cell_type": "markdown",
   "metadata": {
    "slideshow": {
     "slide_type": "subslide"
    }
   },
   "source": [
    "All of them are there. Now we want to use this to create a more compact constructor.<br>\n",
    "* We have one dictionary containing all the values sent to the constructor.<br>\n",
    "* We have another dictionary containing all the instance variables.<br>\n",
    "* So now it is a matter of taking all the values and the names from one dictionary and assign them to the other.<br>\n",
    "* Make sure we don't insert self into \\__dict__."
   ]
  },
  {
   "cell_type": "code",
   "execution_count": null,
   "metadata": {
    "slideshow": {
     "slide_type": "fragment"
    }
   },
   "outputs": [],
   "source": [
    "class A:\n",
    "    def __init__(self, a, b, c, d):\n",
    "        self.__dict__.update({k: v for k, v in locals().items() if k != 'self'})\n",
    "        \n",
    "        \n",
    "a = A('Alpha', 'Bravo', 'Charlie', 'Delta')\n",
    "print(a.a)\n",
    "print(a.b)\n",
    "print(a.c)\n",
    "print(a.d)\n"
   ]
  },
  {
   "cell_type": "markdown",
   "metadata": {
    "slideshow": {
     "slide_type": "fragment"
    }
   },
   "source": [
    "# Note\n",
    "This only works if we don't use ``` __slots__ ``` because if we do we can't use ``` __dict__ ```"
   ]
  },
  {
   "cell_type": "markdown",
   "metadata": {
    "slideshow": {
     "slide_type": "slide"
    }
   },
   "source": [
    "<h1 style=\"text-align: center;\">15. Function attributes</h1>"
   ]
  },
  {
   "cell_type": "markdown",
   "metadata": {
    "slideshow": {
     "slide_type": "subslide"
    }
   },
   "source": [
    "You might already know that we can let a function have an inner function and that we can return a reference to this function from the outer function. This is how decorators are implemented. But let us see how this technique can be used for other things. \n",
    "\n",
    "First let us create a function that returns a reference to an inner function and this inner function will access a variable declared in the outer function. This works with the help of a closure, a technique that will capture the state of the inner functions enclosing scope, that is the out function. "
   ]
  },
  {
   "cell_type": "code",
   "execution_count": null,
   "metadata": {
    "slideshow": {
     "slide_type": "fragment"
    }
   },
   "outputs": [],
   "source": [
    "def function_object(n = 0):\n",
    "    # private variable\n",
    "    private_value = n\n",
    "\n",
    "    def func():\n",
    "        print('private_value =', private_value)\n",
    "    \n",
    "    return func\n",
    "\n",
    "f1 = function_object(10)\n",
    "f1()"
   ]
  },
  {
   "cell_type": "markdown",
   "metadata": {
    "slideshow": {
     "slide_type": "subslide"
    }
   },
   "source": [
    "f1 is a reference to the inner function func. The inner function can access the variable private_value from its enclosing scope.\n",
    "\n",
    "What we have created here is a function object that in many ways acts like a normal object instance. The difference is that the variable *private_value* really is private, something normal instance variables never are in Python. We can build upon this to create a more functional function object."
   ]
  },
  {
   "cell_type": "code",
   "execution_count": null,
   "metadata": {
    "slideshow": {
     "slide_type": "subslide"
    }
   },
   "outputs": [],
   "source": [
    "def function_object(n = 0):\n",
    "    # private variable\n",
    "    private_value = n\n",
    "\n",
    "    def func():\n",
    "        print('private_value =', private_value)\n",
    "    \n",
    "    def increase_by(x):\n",
    "        nonlocal private_value\n",
    "        private_value += x\n",
    "\n",
    "    def decrease_by(x):\n",
    "        nonlocal private_value\n",
    "        private_value -= x    \n",
    "    \n",
    "    func.increase_by = increase_by\n",
    "    func.decrease_by = decrease_by\n",
    "    \n",
    "    return func\n",
    "\n",
    "f1 = function_object(10)\n",
    "f2 = function_object(3)\n",
    "f1()\n",
    "f2()\n",
    "f1.increase_by(10)\n",
    "f1()\n",
    "f1.decrease_by(3)\n",
    "f1()"
   ]
  },
  {
   "cell_type": "markdown",
   "metadata": {
    "slideshow": {
     "slide_type": "subslide"
    }
   },
   "source": [
    "The two new functions __increase_by__ and __decrease_by__ are hooked onto the function we are giving a reference to by the use of function attributes. The function func now have two attributes that are references to the two new functions. As we can access func from outside the function_object function we can also access the two new functions.\n",
    "\n",
    "We must use the _nonlocal_ keyword in both of the new functions. The reason for this is that private_value is an int and integers are immutable in Python. If we don't use nonlocal we will get an error indicating that we try to modify a non-existing variable. As we are updating private_value, Python will try to create a new local variable with that name, but it will fail as we use the += and -= operator. Nonlocal will force Python to look for a variable with this name outside its local scope."
   ]
  }
 ],
 "metadata": {
  "celltoolbar": "Slideshow",
  "kernelspec": {
   "display_name": "Python 3",
   "language": "python",
   "name": "python3"
  },
  "language_info": {
   "codemirror_mode": {
    "name": "ipython",
    "version": 3
   },
   "file_extension": ".py",
   "mimetype": "text/x-python",
   "name": "python",
   "nbconvert_exporter": "python",
   "pygments_lexer": "ipython3",
   "version": "3.6.1"
  }
 },
 "nbformat": 4,
 "nbformat_minor": 2
}
